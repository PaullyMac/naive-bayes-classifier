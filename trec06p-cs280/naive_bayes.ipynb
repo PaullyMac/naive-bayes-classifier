{
 "cells": [
  {
   "cell_type": "markdown",
   "id": "00e59985",
   "metadata": {},
   "source": [
    "# Naive Bayes Classifier for Spam Email Filtering\n",
    "\n",
    "This document outlines the implementation of a Naive Bayes classifier aimed at filtering spam emails. It details the complete process—from data collection and preprocessing to training the model and evaluating its performance—using the TREC06p dataset as a benchmark."
   ]
  },
  {
   "cell_type": "markdown",
   "id": "5b9547c3",
   "metadata": {},
   "source": [
    "## Understanding the Dataset \n",
    "\n",
    "Before we analyze and perform analyzing strategies, we must first understand our dataset. \n",
    "\n",
    "The **trec06p (Text Retrieval Conference)** dataset is a benchmark dataset to test and compare the performance of various machine learning and natural language processing approaches in determining between spam and legitimate (ham) emails. \n",
    "\n",
    "The dataset is made up of large collection of **emails** pre-labeled as either **spam or ham**. This clear binary classification makes it ideal for supervised learning tasks. The emails also include features such as headers, body content and even metadata, which we can use to extract informative features for classification. \n"
   ]
  },
  {
   "cell_type": "markdown",
   "id": "85b5650a",
   "metadata": {},
   "source": [
    "## Method of Implementation"
   ]
  },
  {
   "cell_type": "markdown",
   "id": "4a1c4d25",
   "metadata": {},
   "source": [
    "The first thing to do is to import the necessary libraries and load email data from file paths. \n",
    "\n",
    "It separates the emails into **\"ham\"** (non-spam) and **\"spam\"** lists by reading each file with a custom read_file function, while handling any errors encountered during the file reading process."
   ]
  },
  {
   "cell_type": "code",
   "execution_count": 1,
   "id": "b5c4787c",
   "metadata": {},
   "outputs": [],
   "source": [
    "import pandas as pd\n",
    "from pathlib import Path\n",
    "\n",
    "data_dir = Path(\"trec06p-cs280\")\n",
    "data_dir.exists()\n",
    "\n",
    "ham_paths = []\n",
    "spam_paths = []\n",
    "\n",
    "with open(data_dir/Path(\"labels\"), \"r\") as label_file:\n",
    "    for line in label_file:\n",
    "        label, path = line.strip().split()\n",
    "        if label == 'ham':\n",
    "            ham_paths.append(path)\n",
    "        if label == 'spam':\n",
    "            spam_paths.append(path)\n",
    "\n",
    "\n",
    "# from ../data to trec06p-cs280/data na sea\n",
    "ham_paths = [path.replace('../', 'trec06p-cs280/', 1) for path in ham_paths] # the 1 means replace only the first occurrence \n",
    "spam_paths = [path.replace('../', 'trec06p-cs280/', 1) for path in spam_paths]"
   ]
  },
  {
   "cell_type": "markdown",
   "id": "1775b5b6",
   "metadata": {},
   "source": [
    "We defined a **read_file** function designed to handle messy file encodings."
   ]
  },
  {
   "cell_type": "code",
   "execution_count": 19,
   "id": "60bad50d",
   "metadata": {},
   "outputs": [],
   "source": [
    "def read_file(path):\n",
    "    try:\n",
    "        with open(path, \"r\", encoding=\"utf-8\", errors=\"replace\") as sample:\n",
    "            text = sample.read()\n",
    "        return str(text) if text is not None else None\n",
    "    except:\n",
    "        raise UnicodeDecodeError(f\"Unable to decode {path} using tried encodings.\")\n"
   ]
  },
  {
   "cell_type": "markdown",
   "id": "8a3779ff",
   "metadata": {},
   "source": [
    "This imports the necessary modules from Scikit-Learn for data splitting, feature extraction, model training, and performance evaluation. We initialized two lists—texts for storing email content and labels for tracking whether each email is **ham or spam**. This will be used later to verify our algorithm.  \n",
    "\n",
    "Finally, we iterate through the file paths for both ham and spam emails, reading each file with my custom read_file function, appending the content to texts while assigning the appropriate label to labels, and handling any file reading errors. "
   ]
  },
  {
   "cell_type": "code",
   "execution_count": 20,
   "id": "922d74a2",
   "metadata": {},
   "outputs": [
    {
     "name": "stdout",
     "output_type": "stream",
     "text": [
      "Error reading file path: trec06p-cs280/data/097/065\n"
     ]
    }
   ],
   "source": [
    "from sklearn.model_selection import train_test_split\n",
    "from sklearn.feature_extraction.text import CountVectorizer\n",
    "from sklearn.naive_bayes import MultinomialNB\n",
    "from sklearn.metrics import accuracy_score, classification_report\n",
    "\n",
    "texts = []\n",
    "labels = []\n",
    "\n",
    "\n",
    "for path in ham_paths:\n",
    "    try:\n",
    "        content = read_file(path)\n",
    "        if content is not None:\n",
    "            texts.append(content)\n",
    "            labels.append('ham')\n",
    "    except:\n",
    "        print(f\"Error reading file path: {path}\")\n",
    "\n",
    "for path in spam_paths:\n",
    "    try:\n",
    "        content = read_file(path)\n",
    "        if content is not None:\n",
    "            texts.append(content)\n",
    "            labels.append('spam')\n",
    "    except:\n",
    "        print(f\"Error reading file path: {path}\")"
   ]
  },
  {
   "cell_type": "markdown",
   "id": "be4ec509",
   "metadata": {},
   "source": [
    "We can also check the total amount of files read using the len() function"
   ]
  },
  {
   "cell_type": "code",
   "execution_count": 4,
   "id": "534c1826",
   "metadata": {},
   "outputs": [
    {
     "data": {
      "text/plain": [
       "(37758, 37758)"
      ]
     },
     "execution_count": 4,
     "metadata": {},
     "output_type": "execute_result"
    }
   ],
   "source": [
    "len(texts), len(labels)"
   ]
  },
  {
   "cell_type": "markdown",
   "id": "c1040d46",
   "metadata": {},
   "source": [
    "## Implement using numpy and pandas"
   ]
  },
  {
   "cell_type": "markdown",
   "id": "bab9fcd1",
   "metadata": {},
   "source": [
    "We can also implement the reading of files using numpy and pandas, through this function. \n",
    "\n",
    "By creating empty lists to store the email content for ham (non-spam) and spam messages. We can loop through the file paths for both spam and ham and append them successfully. "
   ]
  },
  {
   "cell_type": "code",
   "execution_count": 5,
   "id": "2bc4321c",
   "metadata": {},
   "outputs": [
    {
     "name": "stdout",
     "output_type": "stream",
     "text": [
      "Error reading file path: trec06p-cs280/data/093/178\n"
     ]
    }
   ],
   "source": [
    "import numpy as np\n",
    "import pandas as pd\n",
    "import re\n",
    "\n",
    "ham_texts = []\n",
    "spam_texts = []\n",
    "\n",
    "for path in ham_paths:\n",
    "    try:\n",
    "        content = read_file(path)\n",
    "        if content is not None:\n",
    "            ham_texts.append(content)\n",
    "    except:\n",
    "        print(f\"Error reading file path: {path}\")\n",
    "\n",
    "for path in spam_paths:\n",
    "    try:\n",
    "        content = read_file(path)\n",
    "        if content is not None:\n",
    "            spam_texts.append(content)\n",
    "    except:\n",
    "        print(f\"Error reading file path: {path}\")"
   ]
  },
  {
   "cell_type": "markdown",
   "id": "950ec52b",
   "metadata": {},
   "source": [
    "Next, we will split the data set into testing and training data. \n",
    "\n",
    "The split is allocated for 80% on the training data and 20% for the testing data. We chose this split because it is the most commonly used method in AI training. \n",
    "\n",
    "Then, we used indices to partition the lists of emails accordingly. "
   ]
  },
  {
   "cell_type": "code",
   "execution_count": 6,
   "id": "0539d043",
   "metadata": {},
   "outputs": [],
   "source": [
    "#Split train and test data\n",
    "ham_split_index = int(0.8*len(ham_texts))\n",
    "spam_split_index = int(0.8*len(spam_texts))\n",
    "\n",
    "train_ham_texts = ham_texts[0:ham_split_index]\n",
    "train_spam_texts = spam_texts[0:spam_split_index]\n",
    "\n",
    "test_ham_texts = ham_texts[ham_split_index:]\n",
    "test_spam_texts = spam_texts[spam_split_index:]\n"
   ]
  },
  {
   "cell_type": "markdown",
   "id": "5a6122df",
   "metadata": {},
   "source": [
    "The next thing we do is to parse the document into words using the parse_documents function to preprocess the list of documents. \n",
    "\n",
    "This is done in accordance to the instruction for this programming assignment. \n",
    "\n",
    "The function uses regex to extract only the alphabetic words from each document and then converts all tokens to lowercase. This ensures consistent text formatting for further analysis. \n",
    "\n",
    "It is then implemented to both the ham and spam text training data to get the list of tokenized documents. "
   ]
  },
  {
   "cell_type": "code",
   "execution_count": 8,
   "id": "22c7cbcc",
   "metadata": {},
   "outputs": [
    {
     "data": {
      "text/plain": [
       "\"\\nreturns something like this: [['you', 'have', 'won', 'money'], \\n                              ['claim', 'your', 'money']]\\nwhere each row is a single instance of a document\\n\""
      ]
     },
     "execution_count": 8,
     "metadata": {},
     "output_type": "execute_result"
    }
   ],
   "source": [
    "# Parse and tokenize documents\n",
    "def parse_documents(texts):\n",
    "    docs = []\n",
    "    for doc in texts:\n",
    "        tokens = re.findall(r'\\b[a-zA-Z]+\\b', doc)\n",
    "        tokens = [token.lower() for token in tokens] # lowercase dapat lahat\n",
    "        docs.append(tokens)\n",
    "    return docs\n",
    "\n",
    "parsed_ham_docs = parse_documents(train_ham_texts)\n",
    "parsed_spam_docs = parse_documents(train_spam_texts)\n",
    "\n",
    "\"\"\"\n",
    "returns something like this: [['you', 'have', 'won', 'money'], \n",
    "                              ['claim', 'your', 'money']]\n",
    "where each row is a single instance of a document\n",
    "\"\"\""
   ]
  },
  {
   "cell_type": "markdown",
   "id": "fe7bdf7b",
   "metadata": {},
   "source": [
    "The following code extracts the unique tokens or vocabulary for the ham and spam emails. This is implemented by creating a set of tokens that naturally removes any duplicates. \n",
    "\n",
    "This is implemented in both the ham and spam documents to generate vocabularies to assess the unique words in each class"
   ]
  },
  {
   "cell_type": "code",
   "execution_count": 9,
   "id": "6ac52ba2",
   "metadata": {},
   "outputs": [
    {
     "data": {
      "text/plain": [
       "(137155, 59675)"
      ]
     },
     "execution_count": 9,
     "metadata": {},
     "output_type": "execute_result"
    }
   ],
   "source": [
    "# Get unique words/vocabulary of each class from the parsed documents\n",
    "\n",
    "def get_unique_tokens(tokenized_docs):\n",
    "    vocabulary = set()\n",
    "    for doc in tokenized_docs:\n",
    "        vocabulary.update(doc)\n",
    "    return vocabulary\n",
    "\n",
    "ham_vocabulary = get_unique_tokens(parsed_ham_docs)\n",
    "spam_vocabulary = get_unique_tokens(parsed_spam_docs)\n",
    "\n",
    "\"\"\"\n",
    "returns something like this: {'the', 'with', 'roan'} without any duplicates.\n",
    "\"\"\"\n",
    "\n",
    "len(ham_vocabulary), len(spam_vocabulary)\n"
   ]
  },
  {
   "cell_type": "markdown",
   "id": "1e6d4c50",
   "metadata": {},
   "source": [
    "We combine the total vocabulary by using a union operator so that all elements are unique"
   ]
  },
  {
   "cell_type": "code",
   "execution_count": 10,
   "id": "3575eb6f",
   "metadata": {},
   "outputs": [
    {
     "data": {
      "text/plain": [
       "174386"
      ]
     },
     "execution_count": 10,
     "metadata": {},
     "output_type": "execute_result"
    }
   ],
   "source": [
    "\n",
    "total_vocabulary = ham_vocabulary | spam_vocabulary\n",
    "len(total_vocabulary)"
   ]
  },
  {
   "cell_type": "markdown",
   "id": "b322e4b4",
   "metadata": {},
   "source": [
    "Here, we count the frequencey of each word in the tokenized training documents for both ham and spam emails. \n",
    "\n",
    "We created two dictionaries using defaultdict to track the word counts. Then we iteratre through each document and word, updating the count only if the word exists in the correcponding vocabulary. "
   ]
  },
  {
   "cell_type": "code",
   "execution_count": 11,
   "id": "7eb0992d",
   "metadata": {},
   "outputs": [
    {
     "data": {
      "text/plain": [
       "(137155, 59675)"
      ]
     },
     "execution_count": 11,
     "metadata": {},
     "output_type": "execute_result"
    }
   ],
   "source": [
    "# Count words and create a dict\n",
    "from collections import defaultdict\n",
    "ham_word_counts = defaultdict(int)\n",
    "spam_word_counts = defaultdict(int)\n",
    "\n",
    "\n",
    "for doc in parsed_ham_docs:\n",
    "    for word in doc:\n",
    "        if word in ham_vocabulary:\n",
    "            ham_word_counts[word] += 1\n",
    "\n",
    "for doc in parsed_spam_docs:\n",
    "    for word in doc:\n",
    "        if word in spam_vocabulary:\n",
    "            spam_word_counts[word] += 1\n",
    "\n",
    "\"\"\"\n",
    "returns something like this (word:count): {'the': 10, 'a': 5}\n",
    "\"\"\"\n",
    "len(ham_word_counts), len(spam_word_counts)"
   ]
  },
  {
   "cell_type": "markdown",
   "id": "8ee34ea6",
   "metadata": {},
   "source": [
    "\n",
    "The next code sorts the two dictionaries for both the ham and spam eamils in descending order by their counts. This lets us quickly identify the most frequent words in each class by converting the sorted sequence back into a dictionary. "
   ]
  },
  {
   "cell_type": "code",
   "execution_count": 12,
   "id": "3a455339",
   "metadata": {},
   "outputs": [
    {
     "data": {
      "text/plain": [
       "\"\\nreturns something like this (word:count): {'the': 10, 'a': 5, 'debby': 2} in descending order\\n\""
      ]
     },
     "execution_count": 12,
     "metadata": {},
     "output_type": "execute_result"
    }
   ],
   "source": [
    "# Sort the two dictionaries (ham and spam) by values\n",
    "ham_sorted_word_counts_dict = dict(sorted(ham_word_counts.items(), key=lambda item: item[1], reverse=True))\n",
    "spam_sorted_word_counts_dict = dict(sorted(spam_word_counts.items(), key=lambda item: item[1], reverse=True))\n",
    "\n",
    "\"\"\"\n",
    "returns something like this (word:count): {'the': 10, 'a': 5, 'debby': 2} in descending order\n",
    "\"\"\""
   ]
  },
  {
   "cell_type": "markdown",
   "id": "7d9c9967",
   "metadata": {},
   "source": [
    "Here, we calculate the prior probabilities for the ham and spam classes. This computes the fraction of documents in each class relative to the total number of documents in the training set. \n",
    "\n",
    "Based on the results, there is a higher probability in the spam emails compared to the ham emails. "
   ]
  },
  {
   "cell_type": "code",
   "execution_count": 13,
   "id": "3d4d1ae1",
   "metadata": {},
   "outputs": [
    {
     "name": "stdout",
     "output_type": "stream",
     "text": [
      "Prior ham: 0.34189703691441814\n",
      "Prior spam: 0.6581029630855818\n"
     ]
    }
   ],
   "source": [
    "# Calculate the prior probabilities of each Class\n",
    "prior_ham = len(parsed_ham_docs)/(len(parsed_ham_docs)+len(parsed_spam_docs))\n",
    "prior_spam = len(parsed_spam_docs)/(len(parsed_ham_docs)+len(parsed_spam_docs))\n",
    "\n",
    "prior_ham, prior_spam\n",
    "print(f\"Prior ham: {prior_ham}\")\n",
    "print(f\"Prior spam: {prior_spam}\")\n"
   ]
  },
  {
   "cell_type": "markdown",
   "id": "39f61a20",
   "metadata": {},
   "source": [
    "We now create a pandas dataframe to visualize all of the words alongside their counts to understand the class distribution. "
   ]
  },
  {
   "cell_type": "code",
   "execution_count": 14,
   "id": "0ac274dd",
   "metadata": {},
   "outputs": [
    {
     "name": "stdout",
     "output_type": "stream",
     "text": [
      "                word   count\n",
      "0                the  197468\n",
      "1                 to  141665\n",
      "2                edu  127371\n",
      "3                  a   87422\n",
      "4                 of   80018\n",
      "...              ...     ...\n",
      "137150    psicologia       1\n",
      "137151        hebron       1\n",
      "137152      pacifict       1\n",
      "137153   versitility       1\n",
      "137154  cantankerous       1\n",
      "\n",
      "[137155 rows x 2 columns]\n",
      "                   word   count\n",
      "0                   div  217041\n",
      "1                  font  157877\n",
      "2                    br  148698\n",
      "3                     a  135437\n",
      "4                    td  101038\n",
      "...                 ...     ...\n",
      "59670         saveseals       1\n",
      "59671           kimlyan       1\n",
      "59672  wonfuproductions       1\n",
      "59673            adrick       1\n",
      "59674           ojawntg       1\n",
      "\n",
      "[59675 rows x 2 columns]\n"
     ]
    }
   ],
   "source": [
    "# Create a pandas dataframe for each class\n",
    "import pandas as pd\n",
    "\n",
    "ham_df = pd.DataFrame(list(ham_sorted_word_counts_dict.items()), columns=['word', 'count'])\n",
    "spam_df = pd.DataFrame(list(spam_sorted_word_counts_dict.items()), columns=['word', 'count'])\n",
    "\n",
    "print(ham_df)\n",
    "print(spam_df)"
   ]
  },
  {
   "cell_type": "code",
   "execution_count": null,
   "id": "8d1e9f32",
   "metadata": {},
   "outputs": [],
   "source": []
  },
  {
   "cell_type": "code",
   "execution_count": 18,
   "id": "a1eb5a6f",
   "metadata": {},
   "outputs": [
    {
     "data": {
      "image/png": "[encoded data removed]",
      "text/plain": [
       "<Figure size 1000x500 with 1 Axes>"
      ]
     },
     "metadata": {},
     "output_type": "display_data"
    },
    {
     "data": {
      "image/png": "[encoded data removed]",
      "text/plain": [
       "<Figure size 1000x500 with 1 Axes>"
      ]
     },
     "metadata": {},
     "output_type": "display_data"
    }
   ],
   "source": [
    "import matplotlib.pyplot as plt\n",
    "\n",
    "# Set the number of top words to display\n",
    "top_n = 20\n",
    "\n",
    "# Plot the top words for ham emails\n",
    "ham_top = ham_df.head(top_n)\n",
    "plt.figure(figsize=(10, 5))\n",
    "plt.bar(ham_top['word'], ham_top['count'])\n",
    "plt.xlabel('Words')\n",
    "plt.ylabel('Count')\n",
    "plt.title('Top 20 Word Distribution in Ham Emails')\n",
    "plt.xticks(rotation=45)\n",
    "plt.tight_layout()\n",
    "plt.show()\n",
    "\n",
    "# Plot the top words for spam emails\n",
    "spam_top = spam_df.head(top_n)\n",
    "plt.figure(figsize=(10, 5))\n",
    "plt.bar(spam_top['word'], spam_top['count'])\n",
    "plt.xlabel('Words')\n",
    "plt.ylabel('Count')\n",
    "plt.title('Top 20 Word Distribution in Spam Emails')\n",
    "plt.xticks(rotation=45)\n",
    "plt.tight_layout()\n",
    "plt.show()\n"
   ]
  },
  {
   "cell_type": "markdown",
   "id": "284412c3",
   "metadata": {},
   "source": [
    "Based on these charts, the most frequent words in ham emails are the common English words — likely articles, prepositions or conjunctions. These can be classified also as stop words. \n",
    "\n",
    "In contrast, the spam emails display the distribution where certain terms like HTML tags in order to create attention-grabbing design in their emails. Also another thing is that HTML allows them to cloud the content in ways that might bypass basic spam filters. \n",
    "\n",
    "This suggests that ham messages tend to use more standard, conversational vocabulary, while spam messages rely on tags to make them appear more flashy"
   ]
  },
  {
   "cell_type": "markdown",
   "id": "8af9370d",
   "metadata": {},
   "source": [
    "### Training phase"
   ]
  },
  {
   "cell_type": "markdown",
   "id": "9f96ada6",
   "metadata": {},
   "source": [
    "This section computes the probability of each word given its class by first summing the total word counts for ham and spam from their respective Dataframes. \n",
    "\n",
    "Then we calculate P(word | class) by dividing each word's count by the total count for that class. "
   ]
  },
  {
   "cell_type": "code",
   "execution_count": null,
   "id": "74142015",
   "metadata": {},
   "outputs": [
    {
     "data": {
      "text/html": [
       "<div>\n",
       "<style scoped>\n",
       "    .dataframe tbody tr th:only-of-type {\n",
       "        vertical-align: middle;\n",
       "    }\n",
       "\n",
       "    .dataframe tbody tr th {\n",
       "        vertical-align: top;\n",
       "    }\n",
       "\n",
       "    .dataframe thead th {\n",
       "        text-align: right;\n",
       "    }\n",
       "</style>\n",
       "<table border=\"1\" class=\"dataframe\">\n",
       "  <thead>\n",
       "    <tr style=\"text-align: right;\">\n",
       "      <th></th>\n",
       "      <th>word</th>\n",
       "      <th>count</th>\n",
       "      <th>P(word|ham)</th>\n",
       "    </tr>\n",
       "  </thead>\n",
       "  <tbody>\n",
       "    <tr>\n",
       "      <th>0</th>\n",
       "      <td>the</td>\n",
       "      <td>197468</td>\n",
       "      <td>3.249377e-02</td>\n",
       "    </tr>\n",
       "    <tr>\n",
       "      <th>1</th>\n",
       "      <td>to</td>\n",
       "      <td>141665</td>\n",
       "      <td>2.331127e-02</td>\n",
       "    </tr>\n",
       "    <tr>\n",
       "      <th>2</th>\n",
       "      <td>edu</td>\n",
       "      <td>127371</td>\n",
       "      <td>2.095916e-02</td>\n",
       "    </tr>\n",
       "    <tr>\n",
       "      <th>3</th>\n",
       "      <td>a</td>\n",
       "      <td>87422</td>\n",
       "      <td>1.438547e-02</td>\n",
       "    </tr>\n",
       "    <tr>\n",
       "      <th>4</th>\n",
       "      <td>of</td>\n",
       "      <td>80018</td>\n",
       "      <td>1.316713e-02</td>\n",
       "    </tr>\n",
       "    <tr>\n",
       "      <th>...</th>\n",
       "      <td>...</td>\n",
       "      <td>...</td>\n",
       "      <td>...</td>\n",
       "    </tr>\n",
       "    <tr>\n",
       "      <th>137150</th>\n",
       "      <td>psicologia</td>\n",
       "      <td>1</td>\n",
       "      <td>1.645521e-07</td>\n",
       "    </tr>\n",
       "    <tr>\n",
       "      <th>137151</th>\n",
       "      <td>hebron</td>\n",
       "      <td>1</td>\n",
       "      <td>1.645521e-07</td>\n",
       "    </tr>\n",
       "    <tr>\n",
       "      <th>137152</th>\n",
       "      <td>pacifict</td>\n",
       "      <td>1</td>\n",
       "      <td>1.645521e-07</td>\n",
       "    </tr>\n",
       "    <tr>\n",
       "      <th>137153</th>\n",
       "      <td>versitility</td>\n",
       "      <td>1</td>\n",
       "      <td>1.645521e-07</td>\n",
       "    </tr>\n",
       "    <tr>\n",
       "      <th>137154</th>\n",
       "      <td>cantankerous</td>\n",
       "      <td>1</td>\n",
       "      <td>1.645521e-07</td>\n",
       "    </tr>\n",
       "  </tbody>\n",
       "</table>\n",
       "<p>137155 rows × 3 columns</p>\n",
       "</div>"
      ],
      "text/plain": [
       "                word   count   P(word|ham)\n",
       "0                the  197468  3.249377e-02\n",
       "1                 to  141665  2.331127e-02\n",
       "2                edu  127371  2.095916e-02\n",
       "3                  a   87422  1.438547e-02\n",
       "4                 of   80018  1.316713e-02\n",
       "...              ...     ...           ...\n",
       "137150    psicologia       1  1.645521e-07\n",
       "137151        hebron       1  1.645521e-07\n",
       "137152      pacifict       1  1.645521e-07\n",
       "137153   versitility       1  1.645521e-07\n",
       "137154  cantankerous       1  1.645521e-07\n",
       "\n",
       "[137155 rows x 3 columns]"
      ]
     },
     "execution_count": 15,
     "metadata": {},
     "output_type": "execute_result"
    }
   ],
   "source": [
    "# Calculate each probability of each word given a class P(word | class)\n",
    "\n",
    "total_ham_words = ham_df['count'].sum()\n",
    "total_spam_words = spam_df['count'].sum()\n",
    "\n",
    "# There is no laplace smoothing yet, if it is implemented then it will look like this: ham_df['P(word|ham)'] = (ham_df['count'] + alpha) / (total_ham_words + alpha * len(ham_vocabulary))\n",
    "ham_df['P(word|ham)'] = (ham_df['count']) / total_ham_words\n",
    "spam_df['P(word|spam)'] = spam_df['count'] / total_spam_words\n",
    "\n",
    "ham_df"
   ]
  },
  {
   "cell_type": "markdown",
   "id": "695e98d6",
   "metadata": {},
   "source": [
    "## Create a Function to Predict the Class of a New Document\n",
    "\n",
    "Note: use log to avoid underflow from multiplying many small probabilities."
   ]
  },
  {
   "cell_type": "markdown",
   "id": "b7a059f7",
   "metadata": {},
   "source": [
    "### Without laplace smoothing"
   ]
  },
  {
   "cell_type": "markdown",
   "id": "0936b324",
   "metadata": {},
   "source": [
    "In this code, we convert the probability columns from the dataframes into dictionaries for faster lookup. Then the predict function uses log probabilities to compute the overall likelihood of an input document belonging to either the ham or spam class. \n",
    "\n",
    "It starts by taking the logarithm of the prior probabilities and then adds the logarithm of each word's conditional probability from the dictionaries for every token in the input document. \n",
    "\n",
    "Finally, we compare the accumulated log probabilities and return 'ham' or 'spam' based on which is higher. "
   ]
  },
  {
   "cell_type": "code",
   "execution_count": null,
   "id": "3ce4affa",
   "metadata": {},
   "outputs": [],
   "source": [
    "import math\n",
    "\n",
    "# Convert prob column to a dict for fast lookup\n",
    "ham_probs = dict(zip(ham_df['word'], ham_df['P(word|ham)']))\n",
    "spam_probs = dict(zip(spam_df['word'], spam_df['P(word|spam)']))\n",
    "\n",
    "\n",
    "# Without laplace smoothing\n",
    "def predict(input_document_tokens, prior_ham, prior_spam):\n",
    "    log_prob_ham = math.log(prior_ham)\n",
    "    log_prob_spam = math.log(prior_spam)\n",
    "\n",
    "    total_ham_probs = log_prob_ham\n",
    "    total_spam_probs =log_prob_spam\n",
    "\n",
    "    \n",
    "    for input_word in input_document_tokens:\n",
    "        # Calculate for total_ham_probs\n",
    "        if input_word in ham_probs:\n",
    "            total_ham_probs += math.log(ham_probs[input_word])\n",
    "        else:\n",
    "            total_ham_probs += 0\n",
    "\n",
    "        # Calculate for total_spam_probs\n",
    "        if input_word in spam_probs:\n",
    "            total_spam_probs += math.log(spam_probs[input_word])\n",
    "        else:\n",
    "            total_spam_probs += 0\n",
    "    \n",
    "    return 'ham' if total_ham_probs>total_spam_probs else 'spam'"
   ]
  },
  {
   "cell_type": "markdown",
   "id": "0c6555d8",
   "metadata": {},
   "source": [
    "### With laplace smoothing"
   ]
  },
  {
   "cell_type": "markdown",
   "id": "1a8996c9",
   "metadata": {},
   "source": [
    "In this code, we extend the classifier by incorporating the Laplace Smoothing to handle the unseen words during prediction. We start by defining the smoothing factor (alpha) in this case the 0.0000005 and the vocabulary size. \n",
    "\n",
    "Then, we update the conditional probability calculations for both ham and spam by adding alpha to each word count and adjusting the total accordingly. \n",
    "\n",
    "For each token, the function adds the logarithm of the appropriate probability if the word is present, or a smoothed probability if it isn't, and then returns the class with the higher total log probability."
   ]
  },
  {
   "cell_type": "code",
   "execution_count": 19,
   "id": "a99dfdd0",
   "metadata": {},
   "outputs": [],
   "source": [
    "# With laplace smoothing\n",
    "\n",
    "alpha = 0.0000005\n",
    "V = len(total_vocabulary)\n",
    "\n",
    "ham_df['P(word|ham)'] = (ham_df['count']+alpha) / (total_ham_words + alpha*V)\n",
    "spam_df['P(word|spam)'] = (spam_df['count']+alpha) / (total_spam_words + alpha*V)\n",
    "\n",
    "ham_probs = dict(zip(ham_df['word'], ham_df['P(word|ham)']))\n",
    "spam_probs = dict(zip(spam_df['word'], spam_df['P(word|spam)']))\n",
    "\n",
    "def predict_with_laplace_smoothing(input_document_tokens, prior_ham, prior_spam):\n",
    "    log_prob_ham = math.log(prior_ham)\n",
    "    log_prob_spam = math.log(prior_spam)\n",
    "\n",
    "    total_ham_probs = log_prob_ham\n",
    "    total_spam_probs =log_prob_spam\n",
    "\n",
    "    for input_word in input_document_tokens:\n",
    "        # Calculate for total_ham_probs\n",
    "        if input_word in ham_probs:\n",
    "            total_ham_probs += math.log(ham_probs[input_word])\n",
    "        else:\n",
    "            smoothed_ham = (alpha) / (total_ham_words + alpha * V)\n",
    "            total_ham_probs += math.log(smoothed_ham)\n",
    "\n",
    "        # Calculate for total_spam_probs\n",
    "        if input_word in spam_probs:\n",
    "            total_spam_probs += math.log(spam_probs[input_word])\n",
    "        else:\n",
    "            smoothed_spam = (alpha) / (total_spam_words + alpha * V)\n",
    "            total_spam_probs += math.log(smoothed_spam)\n",
    "    \n",
    "    return 'ham' if total_ham_probs>total_spam_probs else 'spam'"
   ]
  },
  {
   "cell_type": "markdown",
   "id": "a49a016b",
   "metadata": {},
   "source": [
    "### Evaluation with laplace smoothing"
   ]
  },
  {
   "cell_type": "markdown",
   "id": "979ad602",
   "metadata": {},
   "source": [
    "Next, we prepare the test dataset and evaluate the classifier. We combine the ham and spam test emails into one list and construct the corresponding ground truth labels. Next, we tokenize the test documents using parse_documents. \n",
    "\n",
    "Lastly, we define and use a helper function that applies the Laplace-smoothed prediction to each tokenized document to generate the predicted labels. "
   ]
  },
  {
   "cell_type": "code",
   "execution_count": 22,
   "id": "c1e56347",
   "metadata": {},
   "outputs": [],
   "source": [
    "import math\n",
    "\n",
    "# Evaluation\n",
    "\n",
    "# Combine test texts\n",
    "X_test = test_ham_texts + test_spam_texts\n",
    "y_test = ['ham'] * len(test_ham_texts) + ['spam'] * len(test_spam_texts)\n",
    "\n",
    "# Parse and tokenize the document:\n",
    "parsed_input_docs = parse_documents(X_test)\n",
    "\n",
    "# Predict multiple documents\n",
    "def predict_documents(documents):\n",
    "    return [predict_with_laplace_smoothing(document, prior_ham, prior_spam) for document in documents]\n",
    "\n",
    "y_pred = predict_documents(parsed_input_docs)\n"
   ]
  },
  {
   "cell_type": "markdown",
   "id": "46d4cef1",
   "metadata": {},
   "source": [
    "Here, we have an example to test and predict using the laplace smoothing. We can add the sample email here and then the algorithm will predict if the email is spam or ham. "
   ]
  },
  {
   "cell_type": "code",
   "execution_count": 23,
   "id": "9cb7da07",
   "metadata": {},
   "outputs": [
    {
     "data": {
      "text/plain": [
       "'ham'"
      ]
     },
     "execution_count": 23,
     "metadata": {},
     "output_type": "execute_result"
    }
   ],
   "source": [
    "# Example\n",
    "\n",
    "# flatten/reshape the parsed_input_doc:\n",
    "parsed_input_doc = parse_documents([\"\"\"Congratulations!\n",
    "\n",
    "You’ve been chosen to receive an exclusive **$1000 Walmart Gift Card** — absolutely FREE! 🎉  \n",
    "But hurry, this offer is only valid for the next 24 hours!\n",
    "\n",
    "👉 Click here to claim your reward now: [http://claim-your-prize-now.xyz](http://claim-your-prize-now.xyz)  \n",
    "(No purchase necessary!)\n",
    "\n",
    "Act fast before this opportunity disappears forever.\n",
    "\n",
    "Best wishes,  \n",
    "The Rewards Team\n",
    "\n",
    "P.S. This is a limited-time offer only available to select customers.\n",
    "\"\"\"])\n",
    "\n",
    "flattened_parsed_input_doc = parsed_input_doc[0]\n",
    "\n",
    "predict_with_laplace_smoothing(flattened_parsed_input_doc, prior_ham, prior_spam)"
   ]
  },
  {
   "cell_type": "markdown",
   "id": "f557b460",
   "metadata": {},
   "source": [
    "In this block, we evaluate the performance of the classifier on the test set. We calculate the overall accuracy, generate a confusion matrix (with 'ham' and 'spam' as labels) and compute the precision, recall and F1 score (treating 'spam' as the positive class). Finally, we print these metrics along with the full classification report. "
   ]
  },
  {
   "cell_type": "code",
   "execution_count": null,
   "id": "15edf153",
   "metadata": {},
   "outputs": [
    {
     "name": "stdout",
     "output_type": "stream",
     "text": [
      "Accuracy: 0.9401483050847458\n",
      "Precision: 0.9745798319327731\n",
      "Recall: 0.933400402414487\n",
      "F1 Score: 0.9535457348406988\n",
      "\n",
      "Classification Report:\n",
      "               precision    recall  f1-score   support\n",
      "\n",
      "         ham       0.88      0.95      0.92      2582\n",
      "        spam       0.97      0.93      0.95      4970\n",
      "\n",
      "    accuracy                           0.94      7552\n",
      "   macro avg       0.93      0.94      0.93      7552\n",
      "weighted avg       0.94      0.94      0.94      7552\n",
      "\n"
     ]
    },
    {
     "data": {
      "text/plain": [
       "array([[2461,  121],\n",
       "       [ 331, 4639]])"
      ]
     },
     "execution_count": 24,
     "metadata": {},
     "output_type": "execute_result"
    }
   ],
   "source": [
    "from sklearn.metrics import accuracy_score, precision_score, recall_score, f1_score, confusion_matrix, classification_report\n",
    "\n",
    "# Accuracy\n",
    "acc = accuracy_score(y_test, y_pred)\n",
    "\n",
    "\n",
    "# Confusion matrix\n",
    "cm = confusion_matrix(y_test, y_pred, labels=['ham', 'spam'])\n",
    "\n",
    "\n",
    "# Output\n",
    "print(\"Accuracy:\", acc)\n",
    "print(\"Precision:\", precision_score(y_test, y_pred, pos_label='spam'))\n",
    "print(\"Recall:\", recall_score(y_test, y_pred, pos_label='spam'))\n",
    "print(\"F1 Score:\", f1_score(y_test, y_pred, pos_label='spam'))\n",
    "\n",
    "# Full classification report\n",
    "print(\"\\nClassification Report:\\n\", classification_report(y_test, y_pred))\n"
   ]
  },
  {
   "cell_type": "markdown",
   "id": "15982556",
   "metadata": {},
   "source": [
    "# Putting it all together using Classes"
   ]
  },
  {
   "cell_type": "markdown",
   "id": "0c10ec52",
   "metadata": {},
   "source": [
    "Here, we put it all together to define the NaiveBayesClassifier class to implement the entirety of the Naive Bayes Spam Filter with Laplace Smoothing. "
   ]
  },
  {
   "cell_type": "code",
   "execution_count": null,
   "id": "2ca64187",
   "metadata": {},
   "outputs": [],
   "source": [
    "import math \n",
    "from collections import Counter\n",
    "from collections import defaultdict\n",
    "\n",
    "\n",
    "class NaiveBayesClassifier:\n",
    "    def __init__(self, alpha):\n",
    "        \"\"\"\n",
    "        Initializes the classifier with a smoothing parameter lambda.\n",
    "        \"\"\"\n",
    "        self.alpha = alpha\n",
    "        self.ham_word_counts_dict = defaultdict(int) # word counts dictionary for ham class\n",
    "        self.spam_word_counts_dict = defaultdict(int) # word counts dictionary for spam class\n",
    "        self.ham_num_doc = 0\n",
    "        self.spam_num_doc = 0\n",
    "        self.ham_vocabulary = set()  # combined vocabulary for ham\n",
    "        self.spam_vocabulary = set()  # combined vocabulary for spam\n",
    "        self.vocabulary = set()  # combined vocabulary across classes\n",
    "        self.fitted = False\n",
    "\n",
    "    def fit(self, ham_docs, spam_docs):\n",
    "        # Update document counts\n",
    "        self.ham_doc_count = len(ham_docs)\n",
    "        self.spam_doc_count = len(spam_docs)\n",
    "        \n",
    "        # Get vocabularies dictionaries (word:count) of each class\n",
    "        # ham_docs and spam_docs are already tokenized/parsed ma dapat\n",
    "        for doc in ham_docs:\n",
    "            for word in doc:\n",
    "                self.ham_word_counts_dict[word] += 1\n",
    "                self.vocabulary.add(word)\n",
    "                self.ham_vocabulary.add(word)\n",
    "        for doc in spam_docs:\n",
    "            for word in doc:\n",
    "                self.spam_word_counts_dict[word] += 1\n",
    "                self.vocabulary.add(word)\n",
    "                self.spam_vocabulary.add(word)\n",
    "\n",
    "        # Total words per class\n",
    "        self.total_ham_words = sum(self.ham_word_counts_dict.values())\n",
    "        self.total_spam_words = sum(self.spam_word_counts_dict.values())\n",
    "\n",
    "        # Total words for all classes (ginagamit usually for smoothing itong si V)\n",
    "        self.V = len(self.vocabulary)\n",
    "\n",
    "        # Compute prior probabilities\n",
    "        self.prior_ham = self.ham_doc_count/(self.ham_doc_count+self.spam_doc_count)\n",
    "        self.prior_spam = self.ham_doc_count/(self.ham_doc_count+self.spam_doc_count)\n",
    "\n",
    "        self.fitted = True\n",
    "\n",
    "    def _calc_word_prob(self, word, class_word_counts, total_words):\n",
    "        \"\"\"\n",
    "        Helper function to calculate the smoothed likelihood of a word \n",
    "        given a class.\n",
    "        \n",
    "        Parameters:\n",
    "        word (str): The word to calculate probability for.\n",
    "        class_word_counts (dict): Word Dictionary with counts for the given class.\n",
    "        total_words (int): Total word count for the given class.\n",
    "        \n",
    "        Returns:\n",
    "        laplace smoothed probability P(word|class).\n",
    "        \"\"\"\n",
    "        word_count = class_word_counts[word]\n",
    "        # Laplace smoothing: count + alpha divided by total words plus alpha * vocabulary size\n",
    "        return (word_count + self.alpha) / (total_words + self.alpha * self.V)\n",
    "\n",
    "        \n",
    "    def get_unique_tokens(tokenized_docs):\n",
    "        vocabulary = set()\n",
    "        for doc in tokenized_docs:\n",
    "            vocabulary.update(doc)\n",
    "        return vocabulary\n",
    "    \n",
    "    def predict(self, input_document_token):\n",
    "        \"\"\"\n",
    "        Predict the class ('ham' or 'spam') for a new document.\n",
    "        \n",
    "        Parameters:\n",
    "        document_tokens (list of str): The tokenized document.\n",
    "        \n",
    "        Returns:\n",
    "        str: Predic\n",
    "        \"\"\"\n",
    "        if not self.fitted:\n",
    "            raise Exception(\"Classifier not trained yet. Call fit() first.\")\n",
    "        \n",
    "        log_prob_ham = math.log(self.prior_ham)\n",
    "        log_prob_spam = math.log(self.prior_spam)\n",
    "\n",
    "        total_ham_probs = log_prob_ham\n",
    "        total_spam_probs =log_prob_spam\n",
    "\n",
    "        for input_word in input_document_token:\n",
    "            # Calculate for total_ham_probs\n",
    "            if input_word in self.ham_word_counts_dict:\n",
    "                word_ham_prob_smoothed = self._calc_word_prob(input_word, self.ham_word_counts_dict, self.total_ham_words)\n",
    "                total_ham_probs += math.log(word_ham_prob_smoothed)\n",
    "            else:\n",
    "                smoothed_ham = (self.alpha) / (self.total_ham_words + self.alpha * self.V)\n",
    "                total_ham_probs += math.log(smoothed_ham)\n",
    "\n",
    "            # Calculate for total_spam_probs\n",
    "            if input_word in self.spam_word_counts_dict:\n",
    "                word_spam_prob_smoothed = self._calc_word_prob(input_word, self.spam_word_counts_dict, self.total_spam_words)\n",
    "                total_spam_probs += math.log(word_spam_prob_smoothed)\n",
    "            else:\n",
    "                smoothed_spam = (self.alpha) / (total_spam_words + self.alpha * self.V)\n",
    "                total_spam_probs += math.log(smoothed_spam)\n",
    "        \n",
    "        return 'ham' if total_ham_probs>total_spam_probs else 'spam'\n",
    "    \n",
    "    def predict_many(self, input_document_tokens):\n",
    "        return [self.predict(doc) for doc in input_document_tokens]\n",
    "\n",
    "        "
   ]
  },
  {
   "cell_type": "markdown",
   "id": "cca81b74",
   "metadata": {},
   "source": [
    "Here, it initialize an instance of the NaiveBayesClassifier using a smoothing parameter (alpha) of 0.05. This value controls the amount of Laplace smoothing applied during training and prediction, helping to prevent zero probabilities for unseen words."
   ]
  },
  {
   "cell_type": "code",
   "execution_count": null,
   "id": "6a4feabf",
   "metadata": {},
   "outputs": [],
   "source": [
    "# Initialize the model with some random lambda value\n",
    "model = NaiveBayesClassifier(alpha=0.05)"
   ]
  },
  {
   "cell_type": "markdown",
   "id": "ea129fe8",
   "metadata": {},
   "source": [
    "Now we train the Naive Bayes classifier by calling its fit method with the tokenized ham and spam documents. This step updates the model with word frequencies, vocabulary, and document counts, preparing it for making predictions on unseen emails."
   ]
  },
  {
   "cell_type": "code",
   "execution_count": null,
   "id": "0169fc25",
   "metadata": {},
   "outputs": [],
   "source": [
    "# train/fit the model\n",
    "model.fit(parsed_ham_docs, parsed_spam_docs)"
   ]
  },
  {
   "cell_type": "markdown",
   "id": "c1f3e49e",
   "metadata": {},
   "source": [
    "Again, here is a test function to create a test email and identify whether it is a spam or ham email. "
   ]
  },
  {
   "cell_type": "code",
   "execution_count": 109,
   "id": "0bcb3918",
   "metadata": {},
   "outputs": [
    {
     "data": {
      "text/plain": [
       "'ham'"
      ]
     },
     "execution_count": 109,
     "metadata": {},
     "output_type": "execute_result"
    }
   ],
   "source": [
    "# Example\n",
    "\n",
    "# flatten/reshape the parsed_input_doc:\n",
    "parsed_input_doc = parse_documents([\"\"\"Congratulations!\n",
    "\n",
    "You’ve been chosen to receive an exclusive **$1000 Walmart Gift Card** — absolutely FREE! 🎉  \n",
    "But hurry, this offer is only valid for the next 24 hours!\n",
    "\n",
    "👉 Click here to claim your reward now: [http://claim-your-prize-now.xyz](http://claim-your-prize-now.xyz)  \n",
    "(No purchase necessary!)\n",
    "\n",
    "Act fast before this opportunity disappears forever.\n",
    "\n",
    "Best wishes,  \n",
    "The Rewards Team\n",
    "\n",
    "P.S. This is a limited-time offer only available to select customers.\n",
    "\"\"\"])\n",
    "\n",
    "flattened_parsed_input_doc = parsed_input_doc[0]\n",
    "\n",
    "model.predict(flattened_parsed_input_doc)"
   ]
  },
  {
   "cell_type": "markdown",
   "id": "683006a6",
   "metadata": {},
   "source": [
    "Here, we evaluate the Naive Bayes Classifer with the same metrics as before. "
   ]
  },
  {
   "cell_type": "code",
   "execution_count": null,
   "id": "5c1d3d95",
   "metadata": {},
   "outputs": [
    {
     "name": "stdout",
     "output_type": "stream",
     "text": [
      "Accuracy: 0.9401483050847458\n",
      "Precision: 0.9745798319327731\n",
      "Recall: 0.933400402414487\n",
      "F1 Score: 0.9535457348406988\n",
      "\n",
      "Classification Report:\n",
      "               precision    recall  f1-score   support\n",
      "\n",
      "         ham       0.88      0.95      0.92      2582\n",
      "        spam       0.97      0.93      0.95      4970\n",
      "\n",
      "    accuracy                           0.94      7552\n",
      "   macro avg       0.93      0.94      0.93      7552\n",
      "weighted avg       0.94      0.94      0.94      7552\n",
      "\n"
     ]
    }
   ],
   "source": [
    "from sklearn.metrics import accuracy_score, precision_score, recall_score, f1_score, confusion_matrix, classification_report\n",
    "\n",
    "# Combine test texts\n",
    "X_test = test_ham_texts + test_spam_texts\n",
    "y_test = ['ham'] * len(test_ham_texts) + ['spam'] * len(test_spam_texts)\n",
    "\n",
    "# Parse and tokenize the document:\n",
    "parsed_input_docs = parse_documents(X_test)\n",
    "\n",
    "\n",
    "y_preds = model.predict_many(parsed_input_docs)\n",
    "\n",
    "# Accuracy\n",
    "acc = accuracy_score(y_test, y_pred)\n",
    "\n",
    "# Confusion matrix\n",
    "cm = confusion_matrix(y_test, y_pred, labels=['ham', 'spam'])\n",
    "\n",
    "# Output\n",
    "print(\"Accuracy:\", acc)\n",
    "print(\"Precision:\", precision_score(y_test, y_pred, pos_label='spam'))\n",
    "print(\"Recall:\", recall_score(y_test, y_pred, pos_label='spam'))\n",
    "print(\"F1 Score:\", f1_score(y_test, y_pred, pos_label='spam'))\n",
    "\n",
    "# Optional: Full classification report\n",
    "print(\"\\nClassification Report:\\n\", classification_report(y_test, y_pred))\n",
    "\n",
    "# Report\n",
    "# report = classification_report(y_true, y_pred, labels=['ham', 'spam'])\n"
   ]
  },
  {
   "cell_type": "markdown",
   "id": "4b71a5a5",
   "metadata": {},
   "source": [
    "In this block, we defined a helper function called compute_precision_recall that calculates the precision and recall metrics for my spam classifier. we assume that:\n",
    "\n",
    "- TP (True Positives): Spam emails correctly predicted as spam.\n",
    "- FP (False Positives): Ham emails misclassified as spam.\n",
    "- FN (False Negatives): Spam emails misclassified as ham.\n",
    "\n",
    "The function iterates over the true labels and predictions to count TP, FP, and FN. It then calculates precision and recall using these counts, ensuring that division by zero is avoided, and returns the computed values."
   ]
  },
  {
   "cell_type": "code",
   "execution_count": null,
   "id": "4a0657f8",
   "metadata": {},
   "outputs": [],
   "source": [
    "# === Evaluation Metrics ===\n",
    "\n",
    "def compute_precision_recall(y_true, y_pred):\n",
    "    \"\"\"\n",
    "    Computes precision and recall given true labels and predictions.\n",
    "    We assume:\n",
    "        - TP: spam correctly classified as spam.\n",
    "        - TN: ham correctly classified as ham.\n",
    "        - FP: ham misclassified as spam.\n",
    "        - FN: spam misclassified as ham.\n",
    "    \"\"\"\n",
    "    tp = sum(1 for true, pred in zip(y_true, y_pred) if true == 'spam' and pred == 'spam')\n",
    "    fp = sum(1 for true, pred in zip(y_true, y_pred) if true == 'ham' and pred == 'spam')\n",
    "    fn = sum(1 for true, pred in zip(y_true, y_pred) if true == 'spam' and pred == 'ham')\n",
    "    \n",
    "    precision = tp / (tp + fp) if (tp + fp) > 0 else 0.0\n",
    "    recall    = tp / (tp + fn) if (tp + fn) > 0 else 0.0\n",
    "    return precision, recall"
   ]
  },
  {
   "cell_type": "markdown",
   "id": "5ecc060c",
   "metadata": {},
   "source": [
    "Here, we evaluate how different Laplace smoothing parameters (lambda values) affect the classifier's performance. We first tokenize the test documents, then define a function **evaluate_with_lambdas**. \n",
    "\n",
    "- Iterates over a list of lambda values.\n",
    "- For each lambda, creates a new classifier instance and fits it using the tokenized ham and spam training documents.\n",
    "- Uses the trained classifier to predict labels on the test set.\n",
    "- Computes precision and recall for the predictions using the helper function compute_precision_recall.\n",
    "- Stores and prints the evaluation results for that lambda value.\n",
    "\n",
    "Then we show the results for each of the lambda values. "
   ]
  },
  {
   "cell_type": "code",
   "execution_count": 115,
   "id": "aa07cc95",
   "metadata": {},
   "outputs": [
    {
     "name": "stdout",
     "output_type": "stream",
     "text": [
      "Lambda: 2.0 -> Precision: 0.9550, Recall: 0.9052\n",
      "Lambda: 1.0 -> Precision: 0.9600, Recall: 0.9119\n",
      "Lambda: 0.5 -> Precision: 0.9622, Recall: 0.9167\n",
      "Lambda: 0.1 -> Precision: 0.9661, Recall: 0.9294\n",
      "Lambda: 0.005 -> Precision: 0.9697, Recall: 0.9352\n"
     ]
    }
   ],
   "source": [
    "# Parse and tokenize the document:\n",
    "parsed_test_docs = parse_documents(X_test)\n",
    "\n",
    "def evaluate_with_lambdas(lambdas, parsed_ham_docs, parsed_spam_docs, test_docs, true_labels):\n",
    "    results = {}\n",
    "\n",
    "    for lam in lambdas:\n",
    "        # Create a new classifier instance with the given lambda (smoothing parameter)\n",
    "        nb_temp = NaiveBayesClassifier(alpha=lam)\n",
    "        nb_temp.fit(parsed_ham_docs, parsed_spam_docs)  # using tokenized training documents\n",
    "        \n",
    "        # Predict on test set (assuming test_docs and true_labels are defined)\n",
    "        predicted = nb_temp.predict_many(test_docs)\n",
    "        prec, rec = compute_precision_recall(true_labels, predicted)\n",
    "        \n",
    "        results[lam] = {'precision': prec, 'recall': rec}\n",
    "        print(f\"Lambda: {lam} -> Precision: {prec:.4f}, Recall: {rec:.4f}\")\n",
    "\n",
    "\n",
    "lambdas = [2.0, 1.0, 0.5, 0.1, 0.005]\n",
    "evaluate_with_lambdas(lambdas, parsed_ham_docs, parsed_spam_docs, parsed_test_docs, y_test)"
   ]
  },
  {
   "cell_type": "markdown",
   "id": "c38b1d10",
   "metadata": {},
   "source": [
    "These results show that as the lambda value decreases, both precision and recall improve. \n",
    "\n",
    "This indicates that using a smaller smoothing parameter—thus applying less artificial adjustment to the word counts—allows the model to better capture the actual distribution of words in the dataset, leading to more accurate spam detection. \n",
    "\n",
    "Although the improvements are gradual, they suggest that a lower lambda value produces a more sensitive and effective classifier for this particular task."
   ]
  },
  {
   "cell_type": "markdown",
   "id": "878c2e7a",
   "metadata": {},
   "source": [
    "In this block, we calculate the \"informative words\" based on the log odds ratio of each word's likelihood in spam versus ham emails. \n",
    "\n",
    "For each word in the classifier's vocabulary, we compute its smoothed conditional probabilities in both classes and then calculate the log odds ratio (positive scores favor spam; negative scores favor ham). \n",
    "\n",
    "After sorting these scores by their absolute values to identify the most discriminative words, we extract the top 200 informative words. Finally, we separate and print the top 10 words that are most indicative of spam and the top 10 that are most indicative of ham."
   ]
  },
  {
   "cell_type": "code",
   "execution_count": null,
   "id": "4922f162",
   "metadata": {},
   "outputs": [
    {
     "name": "stdout",
     "output_type": "stream",
     "text": [
      "Top informative words for spam:\n",
      "[('shopzilla', 11.43542166732738), ('greylink', 10.847642252650473), ('hoodia', 10.808383040199798), ('ephedra', 10.67150372415245), ('dgts', 10.624502779564844), ('edua', 10.60888420515285), ('anotherparty', 10.514238662240045), ('vipcollectvip', 10.482784437625622), ('writely', 10.470491429223157), ('yfti', 10.40766564015281)]\n",
      "Top informative words for ham:\n",
      "[('lugnet', -12.055427248315494), ('cert', -11.62611846471917), ('rpcss', -11.3925960721898), ('pdfzone', -11.27937657794656), ('pnfs', -11.194554718818175), ('patched', -11.189624633730942), ('reqs', -10.765040837629398), ('csf', -10.578989505723465), ('jforster', -10.548806437797001), ('mrc', -10.521547293806618)]\n"
     ]
    }
   ],
   "source": [
    "import math\n",
    "\n",
    "def informative_words(classifier:NaiveBayesClassifier, top_n=200):\n",
    "    \"\"\"\n",
    "    Computes the informative score (log-odds) for each word and returns the top_n words.\n",
    "    Positive score: indicative of spam.\n",
    "    Negative score: indicative of ham.\n",
    "    \"\"\"\n",
    "    scores = {}\n",
    "    for word in classifier.vocabulary:\n",
    "        # Calculate P(word|class)\n",
    "        p_spam = (classifier.spam_word_counts_dict[word] + classifier.alpha) / (classifier.total_spam_words + classifier.alpha * classifier.V)\n",
    "        p_ham  = (classifier.ham_word_counts_dict[word]  + classifier.alpha)  / (classifier.total_ham_words  + classifier.alpha * classifier.V)\n",
    "        # Compute log odds ratio\n",
    "        score = math.log(p_spam / p_ham) # positive if p_spam is bigger (the word is more likely to be a spam), negative if p_ham is bigger (the word is more likely to be a ham)\n",
    "        scores[word] = score\n",
    "    # Sort words by the magnitude of the log odds ratio (most informative)\n",
    "    sorted_words = sorted(scores.items(), key=lambda x: abs(x[1]), reverse=True)  # Sort by the absolute value of the score\n",
    "    return sorted_words[:top_n]\n",
    "\n",
    "# Use the best lambda from above \n",
    "nb_best = NaiveBayesClassifier(alpha=0.05)\n",
    "nb_best.fit(parsed_ham_docs, parsed_spam_docs)\n",
    "\n",
    "# get the top 200 informative words along with their scores.\n",
    "top_informative = informative_words(nb_best, top_n=200)\n",
    "\n",
    "# Separate into spam and ham lists:\n",
    "spam_informative = [(word, score) for word, score in top_informative if score > 0]\n",
    "ham_informative  = [(word, score) for word, score in top_informative if score < 0]\n",
    "\n",
    "print(\"Top informative words for spam:\")\n",
    "print(spam_informative[:10])  # printing top 10 \n",
    "print(\"Top informative words for ham:\")\n",
    "print(ham_informative[:10])\n"
   ]
  },
  {
   "cell_type": "markdown",
   "id": "a3dce0b3",
   "metadata": {},
   "source": [
    "Next, we first create a set of the top 200 informative words based on their log odds scores. We then modify the prediction function to only consider tokens that belong to this informative vocabulary when classifying a document. \n",
    "\n",
    "Finally, we evaluate the classifier on the test set using this filtered vocabulary and compute the precision and recall, printing the resulting metrics."
   ]
  },
  {
   "cell_type": "code",
   "execution_count": null,
   "id": "511a00e4",
   "metadata": {},
   "outputs": [
    {
     "name": "stdout",
     "output_type": "stream",
     "text": [
      "Using only informative words -> Precision: 0.8008, Recall: 0.9895\n"
     ]
    }
   ],
   "source": [
    "# Create a set of the top 200 informative words\n",
    "informative_vocabulary = set([word for word, score in top_informative])\n",
    "\n",
    "# Modifying the prediction function to ignore words not in informative_vocabulary:\n",
    "def predict_with_informative(classifier, document_tokens, informative_vocabulary):\n",
    "    # Only consider tokens that are in the informative vocabulary\n",
    "    filtered_tokens = [word for word in document_tokens if word in informative_vocabulary]\n",
    "    return classifier.predict(filtered_tokens)\n",
    "\n",
    "# Evaluate on the test set using the filtered vocabulary:\n",
    "def predict_many_informative(classifier, documents, informative_vocabulary):\n",
    "    return [predict_with_informative(classifier, doc, informative_vocabulary) for doc in documents]\n",
    "\n",
    "predicted_informative = predict_many_informative(nb_best, parsed_test_docs, informative_vocabulary)\n",
    "prec_inf, rec_inf = compute_precision_recall(y_test, predicted_informative)\n",
    "print(\"Using only informative words -> Precision: {:.4f}, Recall: {:.4f}\".format(prec_inf, rec_inf))\n"
   ]
  },
  {
   "cell_type": "code",
   "execution_count": null,
   "id": "2cad44b6",
   "metadata": {},
   "outputs": [],
   "source": []
  }
 ],
 "metadata": {
  "kernelspec": {
   "display_name": "Python 3",
   "language": "python",
   "name": "python3"
  },
  "language_info": {
   "codemirror_mode": {
    "name": "ipython",
    "version": 3
   },
   "file_extension": ".py",
   "mimetype": "text/x-python",
   "name": "python",
   "nbconvert_exporter": "python",
   "pygments_lexer": "ipython3",
   "version": "3.13.3"
  }
 },
 "nbformat": 4,
 "nbformat_minor": 5
}
